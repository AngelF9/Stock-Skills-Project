{
 "cells": [
  {
   "cell_type": "code",
   "execution_count": 3,
   "id": "d97a4133-13f3-4b79-8d58-c3b2c057ea25",
   "metadata": {},
   "outputs": [
    {
     "name": "stdout",
     "output_type": "stream",
     "text": [
      "              Open         High          Low        Close        Volume  \\\n",
      "count  3522.000000  3522.000000  3522.000000  3522.000000  3.522000e+03   \n",
      "mean     82.931410    83.530283    82.363251    82.961830  8.903353e+06   \n",
      "std      35.733970    36.051176    35.433283    35.737947  5.293248e+06   \n",
      "min      39.476710    39.601552    26.255069    39.555557  2.022100e+06   \n",
      "25%      57.141381    57.570092    56.713087    57.074181  6.262925e+06   \n",
      "50%      69.195306    69.640060    68.806578    69.247967  7.773050e+06   \n",
      "75%     113.940437   114.695301   113.055585   113.794863  9.953875e+06   \n",
      "max     156.625925   157.658484   155.296952   156.233932  1.237357e+08   \n",
      "\n",
      "         Dividends  Stock Splits  \n",
      "count  3522.000000        3522.0  \n",
      "mean      0.011006           0.0  \n",
      "std       0.088267           0.0  \n",
      "min       0.000000           0.0  \n",
      "25%       0.000000           0.0  \n",
      "50%       0.000000           0.0  \n",
      "75%       0.000000           0.0  \n",
      "max       0.941000           0.0  \n"
     ]
    }
   ],
   "source": [
    "import yfinance as yf \n",
    "\n",
    "# define ticker symbol \n",
    "tickerSymbol = 'PG'\n",
    "\n",
    "# Get data from ticker \n",
    "tickerData = yf.Ticker(tickerSymbol)\n",
    "\n",
    "# get the historical prices for this ticker\n",
    "tickerDf = tickerData.history(period='1d', start='2010-1-1', end='2023-12-31') # adjust dates as needed\n",
    "\n",
    "# see data\n",
    "print(tickerDf.describe())"
   ]
  },
  {
   "cell_type": "code",
   "execution_count": null,
   "id": "6a448ccb-63a8-482e-9752-214adf207e7c",
   "metadata": {},
   "outputs": [],
   "source": []
  }
 ],
 "metadata": {
  "kernelspec": {
   "display_name": "Python 3 (ipykernel)",
   "language": "python",
   "name": "python3"
  },
  "language_info": {
   "codemirror_mode": {
    "name": "ipython",
    "version": 3
   },
   "file_extension": ".py",
   "mimetype": "text/x-python",
   "name": "python",
   "nbconvert_exporter": "python",
   "pygments_lexer": "ipython3",
   "version": "3.10.12"
  }
 },
 "nbformat": 4,
 "nbformat_minor": 5
}
